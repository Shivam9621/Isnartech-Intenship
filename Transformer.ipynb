{
  "nbformat": 4,
  "nbformat_minor": 0,
  "metadata": {
    "colab": {
      "provenance": []
    },
    "kernelspec": {
      "name": "python3",
      "display_name": "Python 3"
    },
    "language_info": {
      "name": "python"
    }
  },
  "cells": [
    {
      "cell_type": "markdown",
      "source": [
        "1. Positional Encoding"
      ],
      "metadata": {
        "id": "Vn5Xb0HeCqob"
      }
    },
    {
      "cell_type": "code",
      "execution_count": null,
      "metadata": {
        "id": "1EPWkCUW_RM7"
      },
      "outputs": [],
      "source": [
        "import torch\n",
        "import math\n",
        "\n",
        "def positional_encoding(seq_len, d_model):\n",
        "    pe = torch.zeros(seq_len, d_model)\n",
        "    position = torch.arange(0, seq_len).unsqueeze(1)\n",
        "    div_term = torch.exp(torch.arange(0, d_model, 2) * (-math.log(10000.0) / d_model))\n",
        "    pe[:, 0::2] = torch.sin(position * div_term)\n",
        "    pe[:, 1::2] = torch.cos(position * div_term)\n",
        "    return pe\n"
      ]
    },
    {
      "cell_type": "markdown",
      "source": [
        "2. Self-Attention"
      ],
      "metadata": {
        "id": "tuxSAeKNDAG0"
      }
    },
    {
      "cell_type": "code",
      "source": [
        "import torch.nn.functional as F\n",
        "\n",
        "def scaled_dot_product_attention(Q, K, V, mask=None):\n",
        "    d_k = Q.size(-1)\n",
        "    scores = torch.matmul(Q, K.transpose(-2, -1)) / math.sqrt(d_k)\n",
        "    if mask is not None:\n",
        "        scores = scores.masked_fill(mask == 0, -1e9)\n",
        "    weights = F.softmax(scores, dim=-1)\n",
        "    return torch.matmul(weights, V), weights\n"
      ],
      "metadata": {
        "id": "gTiMBIR5DDjc"
      },
      "execution_count": null,
      "outputs": []
    },
    {
      "cell_type": "markdown",
      "source": [
        "3. Multi-Head Attention"
      ],
      "metadata": {
        "id": "B9j8Jf-GDH0J"
      }
    },
    {
      "cell_type": "code",
      "source": [
        "import torch.nn as nn\n",
        "\n",
        "class MultiHeadAttention(nn.Module):\n",
        "    def __init__(self, heads, d_model):\n",
        "        super().__init__()\n",
        "        self.heads = heads\n",
        "        self.d_k = d_model // heads\n",
        "        self.q_linear = nn.Linear(d_model, d_model)\n",
        "        self.k_linear = nn.Linear(d_model, d_model)\n",
        "        self.v_linear = nn.Linear(d_model, d_model)\n",
        "        self.out = nn.Linear(d_model, d_model)\n",
        "\n",
        "    def forward(self, q, k, v, mask=None):\n",
        "        B, T, _ = q.size()\n",
        "        q = self.q_linear(q).view(B, T, self.heads, self.d_k).transpose(1,2)\n",
        "        k = self.k_linear(k).view(B, T, self.heads, self.d_k).transpose(1,2)\n",
        "        v = self.v_linear(v).view(B, T, self.heads, self.d_k).transpose(1,2)\n",
        "\n",
        "        out, _ = scaled_dot_product_attention(q, k, v, mask)\n",
        "        out = out.transpose(1,2).contiguous().view(B, T, self.heads * self.d_k)\n",
        "        return self.out(out)\n"
      ],
      "metadata": {
        "id": "XY_Em823DMGS"
      },
      "execution_count": null,
      "outputs": []
    },
    {
      "cell_type": "markdown",
      "source": [
        "4. Feedforward Networks"
      ],
      "metadata": {
        "id": "enlOWaNHDLPp"
      }
    },
    {
      "cell_type": "code",
      "source": [
        "class PositionwiseFeedforward(nn.Module):\n",
        "    def __init__(self, d_model, d_ff):\n",
        "        super().__init__()\n",
        "        self.linear1 = nn.Linear(d_model, d_ff)\n",
        "        self.linear2 = nn.Linear(d_ff, d_model)\n",
        "\n",
        "    def forward(self, x):\n",
        "        return self.linear2(F.relu(self.linear1(x)))\n"
      ],
      "metadata": {
        "id": "PUIwUrDGDTQU"
      },
      "execution_count": null,
      "outputs": []
    },
    {
      "cell_type": "markdown",
      "source": [
        "English-to-French Translation using nn.Transformer"
      ],
      "metadata": {
        "id": "CtyXuMplDdli"
      }
    },
    {
      "cell_type": "code",
      "source": [
        "import torch\n",
        "import torch.nn as nn\n",
        "import torch.nn.functional as F\n",
        "\n",
        "class TransformerTranslator(nn.Module):\n",
        "    def __init__(self, src_vocab_size, tgt_vocab_size, d_model=512, nhead=8, num_layers=6):\n",
        "        super().__init__()\n",
        "        self.encoder_embedding = nn.Embedding(src_vocab_size, d_model)\n",
        "        self.decoder_embedding = nn.Embedding(tgt_vocab_size, d_model)\n",
        "        self.positional_encoding = positional_encoding(100, d_model)\n",
        "\n",
        "        self.transformer = nn.Transformer(d_model=d_model, nhead=nhead, num_encoder_layers=num_layers,\n",
        "                                          num_decoder_layers=num_layers)\n",
        "        self.out = nn.Linear(d_model, tgt_vocab_size)\n",
        "\n",
        "    def forward(self, src, tgt):\n",
        "        src_emb = self.encoder_embedding(src) + self.positional_encoding[:src.size(1), :]\n",
        "        tgt_emb = self.decoder_embedding(tgt) + self.positional_encoding[:tgt.size(1), :]\n",
        "        src_emb = src_emb.transpose(0, 1)  # (seq_len, batch, d_model)\n",
        "        tgt_emb = tgt_emb.transpose(0, 1)\n",
        "\n",
        "        output = self.transformer(src_emb, tgt_emb)\n",
        "        return self.out(output)\n"
      ],
      "metadata": {
        "id": "bXRw0rteDeb2"
      },
      "execution_count": null,
      "outputs": []
    }
  ]
}